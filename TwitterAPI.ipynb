{
 "cells": [
  {
   "cell_type": "code",
   "execution_count": 1,
   "metadata": {
    "collapsed": false
   },
   "outputs": [
    {
     "ename": "ImportError",
     "evalue": "No module named 'tweepy'",
     "output_type": "error",
     "traceback": [
      "\u001b[0;31m---------------------------------------------------------------------------\u001b[0m",
      "\u001b[0;31mImportError\u001b[0m                               Traceback (most recent call last)",
      "\u001b[0;32m<ipython-input-1-d480d64d292d>\u001b[0m in \u001b[0;36m<module>\u001b[0;34m()\u001b[0m\n\u001b[0;32m----> 1\u001b[0;31m \u001b[1;32mimport\u001b[0m \u001b[0mtweepy\u001b[0m\u001b[1;33m\u001b[0m\u001b[0m\n\u001b[0m\u001b[1;32m      2\u001b[0m \u001b[1;32mimport\u001b[0m \u001b[0mpandas\u001b[0m \u001b[1;32mas\u001b[0m \u001b[0mpd\u001b[0m\u001b[1;33m\u001b[0m\u001b[0m\n\u001b[1;32m      3\u001b[0m \u001b[1;32mimport\u001b[0m \u001b[0mmatplotlib\u001b[0m\u001b[1;33m.\u001b[0m\u001b[0mpyplot\u001b[0m \u001b[1;32mas\u001b[0m \u001b[0mplt\u001b[0m\u001b[1;33m\u001b[0m\u001b[0m\n\u001b[1;32m      4\u001b[0m \u001b[0mpd\u001b[0m\u001b[1;33m.\u001b[0m\u001b[0moptions\u001b[0m\u001b[1;33m.\u001b[0m\u001b[0mdisplay\u001b[0m\u001b[1;33m.\u001b[0m\u001b[0mmax_columns\u001b[0m\u001b[1;33m=\u001b[0m\u001b[1;36m50\u001b[0m\u001b[1;33m\u001b[0m\u001b[0m\n\u001b[1;32m      5\u001b[0m \u001b[0mpd\u001b[0m\u001b[1;33m.\u001b[0m\u001b[0moptions\u001b[0m\u001b[1;33m.\u001b[0m\u001b[0mdisplay\u001b[0m\u001b[1;33m.\u001b[0m\u001b[0mmax_rows\u001b[0m\u001b[1;33m=\u001b[0m\u001b[1;36m20\u001b[0m\u001b[1;33m\u001b[0m\u001b[0m\n",
      "\u001b[0;31mImportError\u001b[0m: No module named 'tweepy'"
     ]
    }
   ],
   "source": [
    "import tweepy\n",
    "import pandas as pd\n",
    "import matplotlib.pyplot as plt\n",
    "pd.options.display.max_columns=50\n",
    "pd.options.display.max_rows=20\n",
    "pd.options.display.width=120\n",
    "\n",
    "consumer_key= \" \"\n",
    "consumer_secret = \" \"\n",
    "auth = tweepy.oAuthHandler(consumer_key = consumer_key, consumer_secret=consumer_secret)\n",
    "api = tweepy.API(auth)\n",
    "\n",
    "results = api.search(q=\"sachin Tendulakar\")\n",
    "len(results)\n",
    "\n",
    "\"\"\" Inspecting Results \"\"\"\n",
    "def print_tweet(tweet):\n",
    "    print(\"@%s - %s - (%s)\", %(tweet.user.screen_name, tweet.user.name, tweet.created_at))\n",
    "    print(\"%s\",tweet.text)\n",
    "\n",
    "tweet = results[1]\n",
    "print_tweet(tweet)\n",
    "\n",
    "\"\"\" Inspecting a status object \"\"\"\n",
    "tweet = results[2]\n",
    "for param in dir(tweet):\n",
    "    if not param.startswith(\"_\"):\n",
    "        print(\"%s : %s \",%(param, eval(\"tweet.\"+ param)))\n",
    "\n",
    "\"\"\" Inspecting a user object\"\"\"\n",
    "user = tweet.author\n",
    "for params in dir(user):\n",
    "    if not params.startswith(\"_\"):\n",
    "        print(\"%s %s \",%(params,eval(\"user.\"+params)))\n",
    "\n",
    "\"\"\" cursor is a simple way to handle interation & results pages\"\"\"\n",
    "results= []\n",
    "for tweet in tweepy.Cursor(api.search, q=\"sachin Tendulkar\").items(100):\n",
    "    results.append(tweet)\n",
    "\n",
    "\"\"\" show results in a dataframe \"\"\"\n",
    "def process_results(results):\n",
    "    id_list = [tweet.id for tweet in results]\n",
    "    dataset = pd.DataFrame(id_list, columns=[\"id\"])\n",
    "    \n",
    "    \"\"\" processing tweet data\"\"\"\n",
    "    dataset[\"tweet\"] = [tweet.text for tweet in results]\n",
    "    dataset[\"created_at\"] = [tweet.text for tweet in results]\n",
    "    dataset[\"retweet_count\"] = [tweet.text for tweet in results]\n",
    "    dataset[\"favorite_count\"] = [tweet.text for tweet in results]\n",
    "    dataset[\"source\"] = [tweet.text for tweet in results]\n",
    "    \n",
    "    \"\"\" processing user data\"\"\"\n",
    "    \n",
    "    dataset[\"user_id\"]              = [tweet.author.id for tweet in results]\n",
    "    dataset[\"user_screen_name\"]     = [tweet.author.screen_name for tweet in results]\n",
    "    dataset[\"user_name\"]            = [tweet.author.name for tweet in results]\n",
    "    dataset[\"user_created_at\"]      = [tweet.author.created_at for tweet in results]\n",
    "    dataset[\"user_description\"]     = [tweet.author.description for tweet in results]\n",
    "    dataset[\"user_followers_count\"] = [tweet.author.followers_count for tweet in results]\n",
    "    dataset[\"user_location\"]        = [tweet.author.location for tweet in results]\n",
    "    \n",
    "    return dataset\n",
    "dataset = process_result(results)\n",
    "dataset.head(5)"
   ]
  },
  {
   "cell_type": "code",
   "execution_count": null,
   "metadata": {
    "collapsed": true
   },
   "outputs": [],
   "source": []
  }
 ],
 "metadata": {
  "kernelspec": {
   "display_name": "Python 3",
   "language": "python",
   "name": "python3"
  },
  "language_info": {
   "codemirror_mode": {
    "name": "ipython",
    "version": 3
   },
   "file_extension": ".py",
   "mimetype": "text/x-python",
   "name": "python",
   "nbconvert_exporter": "python",
   "pygments_lexer": "ipython3",
   "version": "3.4.4"
  }
 },
 "nbformat": 4,
 "nbformat_minor": 1
}
